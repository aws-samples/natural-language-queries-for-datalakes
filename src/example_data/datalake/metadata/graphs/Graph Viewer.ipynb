{
 "cells": [
  {
   "cell_type": "code",
   "execution_count": 1,
   "id": "330cbbe7-ea0b-4fa6-93e4-08ac6c543375",
   "metadata": {},
   "outputs": [],
   "source": [
    "# pip install pyvis\n",
    "# pip install simple-ddl-parser"
   ]
  },
  {
   "cell_type": "code",
   "execution_count": 2,
   "id": "ef100236-9729-4247-8974-b99fa1aacef9",
   "metadata": {},
   "outputs": [],
   "source": [
    "from logic.table_graph_loader import TableGraphLoader"
   ]
  },
  {
   "cell_type": "code",
   "execution_count": 3,
   "id": "12d4782d-d540-45f0-a25d-a72509130c48",
   "metadata": {},
   "outputs": [
    {
     "name": "stdout",
     "output_type": "stream",
     "text": [
      "[{'table_name': 'Categories', 'schema': None, 'primary_key': ['CategoryID'], 'columns': [{'name': 'CategoryID', 'type': 'INTEGER', 'size': None, 'references': None, 'unique': False, 'nullable': False, 'default': None, 'check': None, 'autoincrement': True}, {'name': 'CategoryName', 'type': 'TEXT', 'size': None, 'references': None, 'unique': False, 'nullable': True, 'default': None, 'check': None}, {'name': 'Description', 'type': 'TEXT', 'size': None, 'references': None, 'unique': False, 'nullable': True, 'default': None, 'check': None}, {'name': 'Picture', 'type': 'BLOB', 'size': None, 'references': None, 'unique': False, 'nullable': True, 'default': None, 'check': None}], 'alter': {}, 'checks': [], 'index': [], 'partitioned_by': [], 'tablespace': None}, {'table_name': 'CustomerCustomerDemo', 'schema': None, 'primary_key': ['\"CustomerID\"', '\"CustomerTypeID\"'], 'columns': [{'name': 'CustomerID', 'type': 'TEXT', 'size': None, 'references': {'table': 'Customers', 'schema': None, 'on_delete': None, 'on_update': None, 'deferrable_initially': None, 'column': 'CustomerID'}, 'unique': False, 'nullable': False, 'default': None, 'check': None}, {'name': 'CustomerTypeID', 'type': 'TEXT', 'size': None, 'references': {'table': 'CustomerDemographics', 'schema': None, 'on_delete': None, 'on_update': None, 'deferrable_initially': None, 'column': 'CustomerTypeID'}, 'unique': False, 'nullable': False, 'default': None, 'check': None}], 'alter': {}, 'checks': [], 'index': [], 'partitioned_by': [], 'tablespace': None}, {'table_name': 'CustomerDemographics', 'schema': None, 'primary_key': ['\"CustomerTypeID\"'], 'columns': [{'name': 'CustomerTypeID', 'type': 'TEXT', 'size': None, 'references': None, 'unique': False, 'nullable': False, 'default': None, 'check': None}, {'name': 'CustomerDesc', 'type': 'TEXT', 'size': None, 'references': None, 'unique': False, 'nullable': True, 'default': None, 'check': None}], 'alter': {}, 'checks': [], 'index': [], 'partitioned_by': [], 'tablespace': None}, {'table_name': 'Customers', 'schema': None, 'primary_key': ['`CustomerID`'], 'columns': [{'name': 'CustomerID', 'type': 'TEXT', 'size': None, 'references': None, 'unique': False, 'nullable': True, 'default': None, 'check': None}, {'name': 'CompanyName', 'type': 'TEXT', 'size': None, 'references': None, 'unique': False, 'nullable': True, 'default': None, 'check': None}, {'name': 'ContactName', 'type': 'TEXT', 'size': None, 'references': None, 'unique': False, 'nullable': True, 'default': None, 'check': None}, {'name': 'ContactTitle', 'type': 'TEXT', 'size': None, 'references': None, 'unique': False, 'nullable': True, 'default': None, 'check': None}, {'name': 'Address', 'type': 'TEXT', 'size': None, 'references': None, 'unique': False, 'nullable': True, 'default': None, 'check': None}, {'name': 'City', 'type': 'TEXT', 'size': None, 'references': None, 'unique': False, 'nullable': True, 'default': None, 'check': None}, {'name': 'Region', 'type': 'TEXT', 'size': None, 'references': None, 'unique': False, 'nullable': True, 'default': None, 'check': None}, {'name': 'PostalCode', 'type': 'TEXT', 'size': None, 'references': None, 'unique': False, 'nullable': True, 'default': None, 'check': None}, {'name': 'Country', 'type': 'TEXT', 'size': None, 'references': None, 'unique': False, 'nullable': True, 'default': None, 'check': None}, {'name': 'Phone', 'type': 'TEXT', 'size': None, 'references': None, 'unique': False, 'nullable': True, 'default': None, 'check': None}, {'name': 'Fax', 'type': 'TEXT', 'size': None, 'references': None, 'unique': False, 'nullable': True, 'default': None, 'check': None}], 'alter': {}, 'checks': [], 'index': [], 'partitioned_by': [], 'tablespace': None}, {'table_name': 'Employees', 'schema': None, 'primary_key': ['EmployeeID'], 'columns': [{'name': 'EmployeeID', 'type': 'INTEGER', 'size': None, 'references': None, 'unique': False, 'nullable': False, 'default': None, 'check': None, 'autoincrement': True}, {'name': 'LastName', 'type': 'TEXT', 'size': None, 'references': None, 'unique': False, 'nullable': True, 'default': None, 'check': None}, {'name': 'FirstName', 'type': 'TEXT', 'size': None, 'references': None, 'unique': False, 'nullable': True, 'default': None, 'check': None}, {'name': 'Title', 'type': 'TEXT', 'size': None, 'references': None, 'unique': False, 'nullable': True, 'default': None, 'check': None}, {'name': 'TitleOfCourtesy', 'type': 'TEXT', 'size': None, 'references': None, 'unique': False, 'nullable': True, 'default': None, 'check': None}, {'name': 'BirthDate', 'type': 'DATE', 'size': None, 'references': None, 'unique': False, 'nullable': True, 'default': None, 'check': None}, {'name': 'HireDate', 'type': 'DATE', 'size': None, 'references': None, 'unique': False, 'nullable': True, 'default': None, 'check': None}, {'name': 'Address', 'type': 'TEXT', 'size': None, 'references': None, 'unique': False, 'nullable': True, 'default': None, 'check': None}, {'name': 'City', 'type': 'TEXT', 'size': None, 'references': None, 'unique': False, 'nullable': True, 'default': None, 'check': None}, {'name': 'Region', 'type': 'TEXT', 'size': None, 'references': None, 'unique': False, 'nullable': True, 'default': None, 'check': None}, {'name': 'PostalCode', 'type': 'TEXT', 'size': None, 'references': None, 'unique': False, 'nullable': True, 'default': None, 'check': None}, {'name': 'Country', 'type': 'TEXT', 'size': None, 'references': None, 'unique': False, 'nullable': True, 'default': None, 'check': None}, {'name': 'HomePhone', 'type': 'TEXT', 'size': None, 'references': None, 'unique': False, 'nullable': True, 'default': None, 'check': None}, {'name': 'Extension', 'type': 'TEXT', 'size': None, 'references': None, 'unique': False, 'nullable': True, 'default': None, 'check': None}, {'name': 'Photo', 'type': 'BLOB', 'size': None, 'references': None, 'unique': False, 'nullable': True, 'default': None, 'check': None}, {'name': 'Notes', 'type': 'TEXT', 'size': None, 'references': None, 'unique': False, 'nullable': True, 'default': None, 'check': None}, {'name': 'ReportsTo', 'type': 'INTEGER', 'size': None, 'references': {'table': 'Employees', 'schema': None, 'on_delete': None, 'on_update': None, 'deferrable_initially': None, 'column': 'EmployeeID'}, 'unique': False, 'nullable': True, 'default': None, 'check': None}, {'name': 'PhotoPath', 'type': 'TEXT', 'size': None, 'references': None, 'unique': False, 'nullable': True, 'default': None, 'check': None}], 'alter': {}, 'checks': [], 'index': [], 'partitioned_by': [], 'tablespace': None}, {'table_name': 'EmployeeTerritories', 'schema': None, 'primary_key': ['\"EmployeeID\"', '\"TerritoryID\"'], 'columns': [{'name': 'EmployeeID', 'type': 'INTEGER', 'size': None, 'references': {'table': 'Employees', 'schema': None, 'on_delete': None, 'on_update': None, 'deferrable_initially': None, 'column': 'EmployeeID'}, 'unique': False, 'nullable': False, 'default': None, 'check': None}, {'name': 'TerritoryID', 'type': 'TEXT', 'size': None, 'references': {'table': 'Territories', 'schema': None, 'on_delete': None, 'on_update': None, 'deferrable_initially': None, 'column': 'TerritoryID'}, 'unique': False, 'nullable': False, 'default': None, 'check': None}], 'alter': {}, 'checks': [], 'index': [], 'partitioned_by': [], 'tablespace': None}, {'table_name': '\"Order Details\"', 'schema': None, 'primary_key': ['\"OrderID\"', '\"ProductID\"'], 'columns': [{'name': 'OrderID', 'type': 'INTEGER', 'size': None, 'references': {'table': 'Orders', 'schema': None, 'on_delete': None, 'on_update': None, 'deferrable_initially': None, 'column': 'OrderID'}, 'unique': False, 'nullable': False, 'default': None, 'check': None}, {'name': 'ProductID', 'type': 'INTEGER', 'size': None, 'references': {'table': 'Products', 'schema': None, 'on_delete': None, 'on_update': None, 'deferrable_initially': None, 'column': 'ProductID'}, 'unique': False, 'nullable': False, 'default': None, 'check': None}, {'name': 'UnitPrice', 'type': 'NUMERIC', 'size': None, 'references': None, 'unique': False, 'nullable': False, 'default': 0, 'check': None}, {'name': 'Quantity', 'type': 'INTEGER', 'size': None, 'references': None, 'unique': False, 'nullable': False, 'default': 1, 'check': None}, {'name': 'Discount', 'type': 'REAL', 'size': None, 'references': None, 'unique': False, 'nullable': False, 'default': 0, 'check': None}], 'alter': {}, 'checks': [{'constraint_name': None, 'statement': 'Quantity>(0)'}, {'constraint_name': None, 'statement': 'UnitPrice>=(0)'}], 'index': [], 'partitioned_by': [], 'tablespace': None}, {'table_name': 'Orders', 'schema': None, 'primary_key': ['OrderID'], 'columns': [{'name': 'OrderID', 'type': 'INTEGER', 'size': None, 'references': None, 'unique': False, 'nullable': False, 'default': None, 'check': None, 'autoincrement': True}, {'name': 'CustomerID', 'type': 'TEXT', 'size': None, 'references': {'table': 'Customers', 'schema': None, 'on_delete': None, 'on_update': None, 'deferrable_initially': None, 'column': 'CustomerID'}, 'unique': False, 'nullable': True, 'default': None, 'check': None}, {'name': 'EmployeeID', 'type': 'INTEGER', 'size': None, 'references': {'table': 'Employees', 'schema': None, 'on_delete': None, 'on_update': None, 'deferrable_initially': None, 'column': 'EmployeeID'}, 'unique': False, 'nullable': True, 'default': None, 'check': None}, {'name': 'OrderDate', 'type': 'DATETIME', 'size': None, 'references': None, 'unique': False, 'nullable': True, 'default': None, 'check': None}, {'name': 'RequiredDate', 'type': 'DATETIME', 'size': None, 'references': None, 'unique': False, 'nullable': True, 'default': None, 'check': None}, {'name': 'ShippedDate', 'type': 'DATETIME', 'size': None, 'references': None, 'unique': False, 'nullable': True, 'default': None, 'check': None}, {'name': 'ShipVia', 'type': 'INTEGER', 'size': None, 'references': {'table': 'Shippers', 'schema': None, 'on_delete': None, 'on_update': None, 'deferrable_initially': None, 'column': 'ShipperID'}, 'unique': False, 'nullable': True, 'default': None, 'check': None}, {'name': 'Freight', 'type': 'NUMERIC', 'size': None, 'references': None, 'unique': False, 'nullable': True, 'default': 0, 'check': None}, {'name': 'ShipName', 'type': 'TEXT', 'size': None, 'references': None, 'unique': False, 'nullable': True, 'default': None, 'check': None}, {'name': 'ShipAddress', 'type': 'TEXT', 'size': None, 'references': None, 'unique': False, 'nullable': True, 'default': None, 'check': None}, {'name': 'ShipCity', 'type': 'TEXT', 'size': None, 'references': None, 'unique': False, 'nullable': True, 'default': None, 'check': None}, {'name': 'ShipRegion', 'type': 'TEXT', 'size': None, 'references': None, 'unique': False, 'nullable': True, 'default': None, 'check': None}, {'name': 'ShipPostalCode', 'type': 'TEXT', 'size': None, 'references': None, 'unique': False, 'nullable': True, 'default': None, 'check': None}, {'name': 'ShipCountry', 'type': 'TEXT', 'size': None, 'references': None, 'unique': False, 'nullable': True, 'default': None, 'check': None}], 'alter': {}, 'checks': [], 'index': [], 'partitioned_by': [], 'tablespace': None}, {'table_name': 'Products', 'schema': None, 'primary_key': ['ProductID'], 'columns': [{'name': 'ProductID', 'type': 'INTEGER', 'size': None, 'references': None, 'unique': False, 'nullable': False, 'default': None, 'check': None, 'autoincrement': True}, {'name': 'ProductName', 'type': 'TEXT', 'size': None, 'references': None, 'unique': False, 'nullable': False, 'default': None, 'check': None}, {'name': 'SupplierID', 'type': 'INTEGER', 'size': None, 'references': {'table': 'Suppliers', 'schema': None, 'on_delete': None, 'on_update': None, 'deferrable_initially': None, 'column': 'SupplierID'}, 'unique': False, 'nullable': True, 'default': None, 'check': None}, {'name': 'CategoryID', 'type': 'INTEGER', 'size': None, 'references': {'table': 'Categories', 'schema': None, 'on_delete': None, 'on_update': None, 'deferrable_initially': None, 'column': 'CategoryID'}, 'unique': False, 'nullable': True, 'default': None, 'check': None}, {'name': 'QuantityPerUnit', 'type': 'TEXT', 'size': None, 'references': None, 'unique': False, 'nullable': True, 'default': None, 'check': None}, {'name': 'UnitPrice', 'type': 'NUMERIC', 'size': None, 'references': None, 'unique': False, 'nullable': True, 'default': 0, 'check': None}, {'name': 'UnitsInStock', 'type': 'INTEGER', 'size': None, 'references': None, 'unique': False, 'nullable': True, 'default': 0, 'check': None}, {'name': 'UnitsOnOrder', 'type': 'INTEGER', 'size': None, 'references': None, 'unique': False, 'nullable': True, 'default': 0, 'check': None}, {'name': 'ReorderLevel', 'type': 'INTEGER', 'size': None, 'references': None, 'unique': False, 'nullable': True, 'default': 0, 'check': None}, {'name': 'Discontinued', 'type': 'TEXT', 'size': None, 'references': None, 'unique': False, 'nullable': False, 'default': \"'0'\", 'check': None}], 'alter': {}, 'checks': [{'constraint_name': None, 'statement': 'UnitPrice>=(0)'}, {'constraint_name': None, 'statement': 'ReorderLevel>=(0)'}, {'constraint_name': None, 'statement': 'UnitsInStock>=(0)'}, {'constraint_name': None, 'statement': 'UnitsOnOrder>=(0)'}], 'index': [], 'partitioned_by': [], 'tablespace': None}, {'table_name': 'Regions', 'schema': None, 'primary_key': ['RegionID'], 'columns': [{'name': 'RegionID', 'type': 'INTEGER', 'size': None, 'references': None, 'unique': False, 'nullable': False, 'default': None, 'check': None}, {'name': 'RegionDescription', 'type': 'TEXT', 'size': None, 'references': None, 'unique': False, 'nullable': False, 'default': None, 'check': None}], 'alter': {}, 'checks': [], 'index': [], 'partitioned_by': [], 'tablespace': None}, {'table_name': 'Shippers', 'schema': None, 'primary_key': ['ShipperID'], 'columns': [{'name': 'ShipperID', 'type': 'INTEGER', 'size': None, 'references': None, 'unique': False, 'nullable': False, 'default': None, 'check': None, 'autoincrement': True}, {'name': 'CompanyName', 'type': 'TEXT', 'size': None, 'references': None, 'unique': False, 'nullable': False, 'default': None, 'check': None}, {'name': 'Phone', 'type': 'TEXT', 'size': None, 'references': None, 'unique': False, 'nullable': True, 'default': None, 'check': None}], 'alter': {}, 'checks': [], 'index': [], 'partitioned_by': [], 'tablespace': None}, {'table_name': 'Suppliers', 'schema': None, 'primary_key': ['SupplierID'], 'columns': [{'name': 'SupplierID', 'type': 'INTEGER', 'size': None, 'references': None, 'unique': False, 'nullable': False, 'default': None, 'check': None, 'autoincrement': True}, {'name': 'CompanyName', 'type': 'TEXT', 'size': None, 'references': None, 'unique': False, 'nullable': False, 'default': None, 'check': None}, {'name': 'ContactName', 'type': 'TEXT', 'size': None, 'references': None, 'unique': False, 'nullable': True, 'default': None, 'check': None}, {'name': 'ContactTitle', 'type': 'TEXT', 'size': None, 'references': None, 'unique': False, 'nullable': True, 'default': None, 'check': None}, {'name': 'Address', 'type': 'TEXT', 'size': None, 'references': None, 'unique': False, 'nullable': True, 'default': None, 'check': None}, {'name': 'City', 'type': 'TEXT', 'size': None, 'references': None, 'unique': False, 'nullable': True, 'default': None, 'check': None}, {'name': 'Region', 'type': 'TEXT', 'size': None, 'references': None, 'unique': False, 'nullable': True, 'default': None, 'check': None}, {'name': 'PostalCode', 'type': 'TEXT', 'size': None, 'references': None, 'unique': False, 'nullable': True, 'default': None, 'check': None}, {'name': 'Country', 'type': 'TEXT', 'size': None, 'references': None, 'unique': False, 'nullable': True, 'default': None, 'check': None}, {'name': 'Phone', 'type': 'TEXT', 'size': None, 'references': None, 'unique': False, 'nullable': True, 'default': None, 'check': None}, {'name': 'Fax', 'type': 'TEXT', 'size': None, 'references': None, 'unique': False, 'nullable': True, 'default': None, 'check': None}, {'name': 'HomePage', 'type': 'TEXT', 'size': None, 'references': None, 'unique': False, 'nullable': True, 'default': None, 'check': None}], 'alter': {}, 'checks': [], 'index': [], 'partitioned_by': [], 'tablespace': None}, {'table_name': 'Territories', 'schema': None, 'primary_key': ['\"TerritoryID\"'], 'columns': [{'name': 'TerritoryID', 'type': 'TEXT', 'size': None, 'references': None, 'unique': False, 'nullable': False, 'default': None, 'check': None}, {'name': 'TerritoryDescription', 'type': 'TEXT', 'size': None, 'references': None, 'unique': False, 'nullable': False, 'default': None, 'check': None}, {'name': 'RegionID', 'type': 'INTEGER', 'size': None, 'references': {'table': 'Regions', 'schema': None, 'on_delete': None, 'on_update': None, 'deferrable_initially': None, 'column': 'RegionID'}, 'unique': False, 'nullable': False, 'default': None, 'check': None}], 'alter': {}, 'checks': [], 'index': [], 'partitioned_by': [], 'tablespace': None}, {'comments': [' \"Alphabetical list of products\" ( ProductID , ProductName , SupplierID , CategoryID , QuantityPerUnit , UnitPrice , UnitsInStock , UnitsOnOrder , ReorderLevel , Discontinued , CategoryName )  */;', ' \"Current Product List\" ( ProductID , ProductName )  */;', ' \"Customer and Suppliers by City\" ( City , CompanyName , ContactName , Relationship )  */;', ' Invoices ( ShipName , ShipAddress , ShipCity , ShipRegion , ShipPostalCode , ShipCountry , CustomerID , CustomerName , Address , City , Region , PostalCode , Country , Salesperson , OrderID , OrderDate , RequiredDate , ShippedDate , ShipperName , ProductID , ProductName , UnitPrice , Quantity , Discount , ExtendedPrice , Freight )  */;', ' \"Orders Qry\" ( OrderID , CustomerID , EmployeeID , OrderDate , RequiredDate , ShippedDate , ShipVia , Freight , ShipName , ShipAddress , ShipCity , ShipRegion , ShipPostalCode , ShipCountry , CompanyName , Address , City , Region , PostalCode , Country )  */;', ' \"Order Subtotals\" ( OrderID , Subtotal )  */;', ' \"Product Sales for 1997\" ( CategoryName , ProductName , ProductSales )  */;', ' \"Products Above Average Price\" ( ProductName , UnitPrice )  */;', ' \"Products by Category\" ( CategoryName , ProductName , QuantityPerUnit , UnitsInStock , Discontinued )  */;', ' \"Quarterly Orders\" ( CustomerID , CompanyName , City , Country )  */;', ' \"Sales Totals by Amount\" ( SaleAmount , OrderID , CompanyName , ShippedDate )  */;', ' \"Summary of Sales by Quarter\" ( ShippedDate , OrderID , Subtotal )  */;', ' \"Summary of Sales by Year\" ( ShippedDate , OrderID , Subtotal )  */;', ' \"Category Sales for 1997\" ( CategoryName , CategorySales )  */;', ' \"Order Details Extended\" ( OrderID , ProductID , ProductName , UnitPrice , Quantity , Discount , ExtendedPrice )  */;', ' \"Sales by Category\" ( CategoryID , CategoryName , ProductName , ProductSales )  */;', ' ProductDetails_V ( ProductID , ProductName , SupplierID , CategoryID , QuantityPerUnit , UnitPrice , UnitsInStock , UnitsOnOrder , ReorderLevel , Discontinued , CategoryName , CategoryDescription , SupplierName , SupplierRegion )  */;']}]\n",
      "13\n"
     ]
    }
   ],
   "source": [
    "tableGraphLoader = TableGraphLoader()\n",
    "allTables, refTables = tableGraphLoader.load('example_data/datalake/data/DDL-revised/northwind.ddl.sql')\n",
    "        \n",
    "# print(len(allTables))"
   ]
  },
  {
   "cell_type": "code",
   "execution_count": 4,
   "id": "cf37c569-d0de-4a58-b5ae-a9dc98fd9bb2",
   "metadata": {},
   "outputs": [
    {
     "name": "stdout",
     "output_type": "stream",
     "text": [
      "RelationShip JSON: {'CustomerCustomerDemo': {'Customers', 'CustomerDemographics'}, 'Employees': {'Employees'}, 'EmployeeTerritories': {'Employees', 'Territories'}, '\"Order Details\"': {'Orders', 'Products'}, 'Orders': {'Customers', 'Employees', 'Shippers'}, 'Products': {'Categories', 'Suppliers'}, 'Territories': {'Regions'}}\n",
      "{'CustomerCustomerDemo': {'Customers', 'CustomerDemographics'}, 'Employees': {'Employees'}, 'EmployeeTerritories': {'Employees', 'Territories'}, '\"Order Details\"': {'Orders', 'Products'}, 'Orders': {'Customers', 'Employees', 'Shippers'}, 'Products': {'Categories', 'Suppliers'}, 'Territories': {'Regions'}}\n"
     ]
    }
   ],
   "source": [
    "refJson = tableGraphLoader.relationshipBuilder(refTables)\n",
    "print(refJson)"
   ]
  },
  {
   "cell_type": "code",
   "execution_count": 5,
   "id": "91c9273d-450a-481e-8b20-b3442f14b9ef",
   "metadata": {},
   "outputs": [
    {
     "name": "stdout",
     "output_type": "stream",
     "text": [
      "CustomerCustomerDemo\n",
      "Employees\n",
      "EmployeeTerritories\n",
      "\"Order Details\"\n",
      "Orders\n",
      "Products\n",
      "Territories\n",
      "[0, 1, 2, 3, 4, 5, 6, 7, 8, 9, 10, 11, 12]\n"
     ]
    },
    {
     "data": {
      "text/html": [
       "\n",
       "        <iframe\n",
       "            width=\"100%\"\n",
       "            height=\"600px\"\n",
       "            src=\"northwind.html\"\n",
       "            frameborder=\"0\"\n",
       "            allowfullscreen\n",
       "            \n",
       "        ></iframe>\n",
       "        "
      ],
      "text/plain": [
       "<IPython.lib.display.IFrame at 0x1135656f0>"
      ]
     },
     "execution_count": 5,
     "metadata": {},
     "output_type": "execute_result"
    }
   ],
   "source": [
    "graphNetwork = tableGraphLoader.viewer(allTables, refJson)\n",
    "graphNetwork.show(\"northwind.html\")"
   ]
  },
  {
   "cell_type": "code",
   "execution_count": null,
   "id": "1352e2d4-2790-4f28-a2e9-485bcf21437e",
   "metadata": {},
   "outputs": [],
   "source": []
  }
 ],
 "metadata": {
  "kernelspec": {
   "display_name": "Python 3 (ipykernel)",
   "language": "python",
   "name": "python3"
  },
  "language_info": {
   "codemirror_mode": {
    "name": "ipython",
    "version": 3
   },
   "file_extension": ".py",
   "mimetype": "text/x-python",
   "name": "python",
   "nbconvert_exporter": "python",
   "pygments_lexer": "ipython3",
   "version": "3.10.7"
  }
 },
 "nbformat": 4,
 "nbformat_minor": 5
}
